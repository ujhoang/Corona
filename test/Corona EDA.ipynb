{
 "cells": [
  {
   "cell_type": "code",
   "execution_count": 1,
   "metadata": {},
   "outputs": [
    {
     "data": {
      "text/plain": [
       "'/home/opossum/Projects/Corona'"
      ]
     },
     "execution_count": 1,
     "metadata": {},
     "output_type": "execute_result"
    }
   ],
   "source": [
    "import os\n",
    "os.chdir(\"/home/opossum/Projects/Corona\")\n",
    "os.getcwd()"
   ]
  },
  {
   "cell_type": "code",
   "execution_count": 2,
   "metadata": {},
   "outputs": [
    {
     "data": {
      "text/html": [
       "        <script type=\"text/javascript\">\n",
       "        window.PlotlyConfig = {MathJaxConfig: 'local'};\n",
       "        if (window.MathJax) {MathJax.Hub.Config({SVG: {font: \"STIX-Web\"}});}\n",
       "        if (typeof require !== 'undefined') {\n",
       "        require.undef(\"plotly\");\n",
       "        requirejs.config({\n",
       "            paths: {\n",
       "                'plotly': ['https://cdn.plot.ly/plotly-latest.min']\n",
       "            }\n",
       "        });\n",
       "        require(['plotly'], function(Plotly) {\n",
       "            window._Plotly = Plotly;\n",
       "        });\n",
       "        }\n",
       "        </script>\n",
       "        "
      ]
     },
     "metadata": {},
     "output_type": "display_data"
    },
    {
     "data": {
      "text/html": [
       "        <script type=\"text/javascript\">\n",
       "        window.PlotlyConfig = {MathJaxConfig: 'local'};\n",
       "        if (window.MathJax) {MathJax.Hub.Config({SVG: {font: \"STIX-Web\"}});}\n",
       "        if (typeof require !== 'undefined') {\n",
       "        require.undef(\"plotly\");\n",
       "        requirejs.config({\n",
       "            paths: {\n",
       "                'plotly': ['https://cdn.plot.ly/plotly-latest.min']\n",
       "            }\n",
       "        });\n",
       "        require(['plotly'], function(Plotly) {\n",
       "            window._Plotly = Plotly;\n",
       "        });\n",
       "        }\n",
       "        </script>\n",
       "        "
      ]
     },
     "metadata": {},
     "output_type": "display_data"
    }
   ],
   "source": [
    "import pandas as pd\n",
    "import numpy as np\n",
    "import cufflinks as cf\n",
    "cf.set_config_file(offline=True, theme='solar')"
   ]
  },
  {
   "cell_type": "code",
   "execution_count": 124,
   "metadata": {},
   "outputs": [],
   "source": [
    "def read_and_clean_data(name):\n",
    "    link = \"./data/raw/time_series_covid19_{}_global_narrow.csv\".format(name)\n",
    "    df = pd.read_csv(link, skiprows=[1], low_memory=False)\n",
    "    df[\"Date\"] = pd.to_datetime(df[\"Date\"])\n",
    "    df_final = df.sort_values(\"Date\", ascending=True)\n",
    "    df_final.columns = [\n",
    "        \"province\",\n",
    "        \"country\",\n",
    "        \"lat\",\n",
    "        \"long\",\n",
    "        \"date\",\n",
    "        \"value_{}\".format(name),\n",
    "        \"iso_code\",\n",
    "        \"region_code\",\n",
    "        \"subregion_code\",\n",
    "        \"int_region-code\"\n",
    "    ]\n",
    "    return df_final\n",
    "\n",
    "def merge_dfs(list_of_dfs):\n",
    "    df_main = list_of_dfs[0].copy()\n",
    "    for df in list_of_dfs[1:]:\n",
    "        df_main = pd.merge(df_main, df, how='outer', on=[\n",
    "            \"province\",\n",
    "            \"country\",\n",
    "            \"lat\",\n",
    "            \"long\",\n",
    "            \"date\",\n",
    "            \"iso_code\",\n",
    "            \"region_code\",\n",
    "            \"subregion_code\",\n",
    "            \"int_region-code\",\n",
    "        ])\n",
    "    return df_main\n",
    "\n",
    "def data_connect():\n",
    "    df_con = read_and_clean_data(\"confirmed\")\n",
    "    df_dth = read_and_clean_data(\"deaths\")\n",
    "    df_rec = read_and_clean_data(\"recovered\")\n",
    "\n",
    "    df_merged = merge_dfs([df_con, df_dth, df_rec])\n",
    "    \n",
    "    df_grouped_country = df_merged.groupby(by=[\"country\", \"date\"], as_index=False)[[\"value_deaths\", \"value_recovered\", \"value_confirmed\"]].sum()\n",
    "    \n",
    "    df_world = df_grouped_country.groupby(\"date\", as_index=False).sum()\n",
    "    df_world[\"country\"] = \"World\"\n",
    "    \n",
    "    df_main = df_grouped_country.append(df_world)\n",
    "    return df_main"
   ]
  },
  {
   "cell_type": "code",
   "execution_count": 125,
   "metadata": {},
   "outputs": [],
   "source": [
    "df_main = data_connect()"
   ]
  },
  {
   "cell_type": "code",
   "execution_count": 127,
   "metadata": {},
   "outputs": [
    {
     "data": {
      "text/html": [
       "<div>\n",
       "<style scoped>\n",
       "    .dataframe tbody tr th:only-of-type {\n",
       "        vertical-align: middle;\n",
       "    }\n",
       "\n",
       "    .dataframe tbody tr th {\n",
       "        vertical-align: top;\n",
       "    }\n",
       "\n",
       "    .dataframe thead th {\n",
       "        text-align: right;\n",
       "    }\n",
       "</style>\n",
       "<table border=\"1\" class=\"dataframe\">\n",
       "  <thead>\n",
       "    <tr style=\"text-align: right;\">\n",
       "      <th></th>\n",
       "      <th>country</th>\n",
       "      <th>date</th>\n",
       "      <th>value_deaths</th>\n",
       "      <th>value_recovered</th>\n",
       "      <th>value_confirmed</th>\n",
       "    </tr>\n",
       "  </thead>\n",
       "  <tbody>\n",
       "    <tr>\n",
       "      <th>0</th>\n",
       "      <td>World</td>\n",
       "      <td>2020-01-22</td>\n",
       "      <td>17.0</td>\n",
       "      <td>28.0</td>\n",
       "      <td>555.0</td>\n",
       "    </tr>\n",
       "    <tr>\n",
       "      <th>1</th>\n",
       "      <td>World</td>\n",
       "      <td>2020-01-23</td>\n",
       "      <td>18.0</td>\n",
       "      <td>30.0</td>\n",
       "      <td>654.0</td>\n",
       "    </tr>\n",
       "    <tr>\n",
       "      <th>2</th>\n",
       "      <td>World</td>\n",
       "      <td>2020-01-24</td>\n",
       "      <td>26.0</td>\n",
       "      <td>36.0</td>\n",
       "      <td>941.0</td>\n",
       "    </tr>\n",
       "    <tr>\n",
       "      <th>3</th>\n",
       "      <td>World</td>\n",
       "      <td>2020-01-25</td>\n",
       "      <td>42.0</td>\n",
       "      <td>39.0</td>\n",
       "      <td>1434.0</td>\n",
       "    </tr>\n",
       "    <tr>\n",
       "      <th>4</th>\n",
       "      <td>World</td>\n",
       "      <td>2020-01-26</td>\n",
       "      <td>56.0</td>\n",
       "      <td>52.0</td>\n",
       "      <td>2118.0</td>\n",
       "    </tr>\n",
       "    <tr>\n",
       "      <th>...</th>\n",
       "      <td>...</td>\n",
       "      <td>...</td>\n",
       "      <td>...</td>\n",
       "      <td>...</td>\n",
       "      <td>...</td>\n",
       "    </tr>\n",
       "    <tr>\n",
       "      <th>247</th>\n",
       "      <td>World</td>\n",
       "      <td>2020-09-25</td>\n",
       "      <td>988864.0</td>\n",
       "      <td>22472106.0</td>\n",
       "      <td>32562075.0</td>\n",
       "    </tr>\n",
       "    <tr>\n",
       "      <th>248</th>\n",
       "      <td>World</td>\n",
       "      <td>2020-09-26</td>\n",
       "      <td>994143.0</td>\n",
       "      <td>22715380.0</td>\n",
       "      <td>32840012.0</td>\n",
       "    </tr>\n",
       "    <tr>\n",
       "      <th>249</th>\n",
       "      <td>World</td>\n",
       "      <td>2020-09-27</td>\n",
       "      <td>997734.0</td>\n",
       "      <td>22925667.0</td>\n",
       "      <td>33077724.0</td>\n",
       "    </tr>\n",
       "    <tr>\n",
       "      <th>250</th>\n",
       "      <td>World</td>\n",
       "      <td>2020-09-28</td>\n",
       "      <td>1001646.0</td>\n",
       "      <td>23151081.0</td>\n",
       "      <td>33353615.0</td>\n",
       "    </tr>\n",
       "    <tr>\n",
       "      <th>251</th>\n",
       "      <td>World</td>\n",
       "      <td>2020-09-29</td>\n",
       "      <td>1007755.0</td>\n",
       "      <td>23387690.0</td>\n",
       "      <td>33641553.0</td>\n",
       "    </tr>\n",
       "  </tbody>\n",
       "</table>\n",
       "<p>252 rows × 5 columns</p>\n",
       "</div>"
      ],
      "text/plain": [
       "    country       date  value_deaths  value_recovered  value_confirmed\n",
       "0     World 2020-01-22          17.0             28.0            555.0\n",
       "1     World 2020-01-23          18.0             30.0            654.0\n",
       "2     World 2020-01-24          26.0             36.0            941.0\n",
       "3     World 2020-01-25          42.0             39.0           1434.0\n",
       "4     World 2020-01-26          56.0             52.0           2118.0\n",
       "..      ...        ...           ...              ...              ...\n",
       "247   World 2020-09-25      988864.0       22472106.0       32562075.0\n",
       "248   World 2020-09-26      994143.0       22715380.0       32840012.0\n",
       "249   World 2020-09-27      997734.0       22925667.0       33077724.0\n",
       "250   World 2020-09-28     1001646.0       23151081.0       33353615.0\n",
       "251   World 2020-09-29     1007755.0       23387690.0       33641553.0\n",
       "\n",
       "[252 rows x 5 columns]"
      ]
     },
     "execution_count": 127,
     "metadata": {},
     "output_type": "execute_result"
    }
   ],
   "source": [
    "df_main[df_main[\"country\"] == \"World\"]"
   ]
  }
 ],
 "metadata": {
  "kernelspec": {
   "display_name": "Python 3",
   "language": "python",
   "name": "python3"
  },
  "language_info": {
   "codemirror_mode": {
    "name": "ipython",
    "version": 3
   },
   "file_extension": ".py",
   "mimetype": "text/x-python",
   "name": "python",
   "nbconvert_exporter": "python",
   "pygments_lexer": "ipython3",
   "version": "3.8.3"
  }
 },
 "nbformat": 4,
 "nbformat_minor": 4
}
